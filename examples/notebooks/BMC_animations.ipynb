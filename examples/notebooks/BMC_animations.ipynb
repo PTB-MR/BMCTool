{
 "cells": [
  {
   "cell_type": "markdown",
   "metadata": {},
   "source": [
    "# Imports"
   ]
  },
  {
   "cell_type": "code",
   "execution_count": 1,
   "metadata": {},
   "outputs": [],
   "source": [
    "# Standard library imports\n",
    "import sys\n",
    "import os\n",
    "\n",
    "# Add path\n",
    "sys.path.insert(0, os.path.join('D:\\\\','OneDrive','Dokumente','Python','BMCSim'))\n",
    "\n",
    "# Third party imports\n",
    "import matplotlib\n",
    "import numpy as np\n",
    "import matplotlib.pyplot as plt\n",
    "import matplotlib.animation as animation\n",
    "from mpl_toolkits.mplot3d import Axes3D\n",
    "from IPython.display import HTML\n",
    "\n",
    "# Local application imports\n",
    "from BMCtool import BMCTool\n",
    "\n",
    "%matplotlib qt"
   ]
  },
  {
   "cell_type": "markdown",
   "metadata": {},
   "source": [
    "# settings"
   ]
  },
  {
   "cell_type": "code",
   "execution_count": 2,
   "metadata": {},
   "outputs": [],
   "source": [
    "# simulation settings\n",
    "n_timesteps = 200  # number of timesteps for each RF pulse\n",
    "track = True  # track the magnetization trajectory during pulses/delays ?!\n",
    "par_calc = True  # calculate all offsets in parallel instead of subsequently\n",
    "\n",
    "# experimental settings\n",
    "B0 = 3  # B0 in T\n",
    "B1 = 1e-6  # B1 in µT (for WASABI use 1.25e-6*B0)\n",
    "shape = 'siemens_gauss'  # shape of saturation pulse\n",
    "n_p = 5  # number of saturation pulses\n",
    "tp = 0.2  # pulse duration in s (for WASABI use 0.015/B0)\n",
    "td = 0.1  # delay between pulses in s\n",
    "trec = 0  # recovery/delay time between offsets in s\n",
    "offset = 1  # max offset in ppm\n",
    "n_offsets = 1  # number of offsets\n",
    "\n",
    "# sample settings\n",
    "T1 = 2            #T1 in s\n",
    "T2 = 0.2            #T2 in s\n",
    "\n",
    "# CEST settings\n",
    "n_pools = 2\n",
    "\n",
    "#                bulk       1st       2nd       3rd       4th       5th       6th\n",
    "T1n = np.array([   T1,       T1,       T1,       T1,       T1,       T1,       T1])\n",
    "T2n = np.array([   T2,     0.15,     9e-6,     0.15,    0.015,     9e-6,    0.015])\n",
    "fn  = np.array([    1,    0.002,     0.14,    0.005,    0.005,     0.14,     0.01])\n",
    "dwn = np.array([ -0.0,        1,     -2.6,     -3.3,     -3.7,     -2.6,     -1.0]) * 42.577 * 2 * np.pi * B0\n",
    "kn  = np.array([    0,      100,       40,     2000,     2000,       40,      500])\n",
    "\n",
    "# calculate offsets\n",
    "offsets_ppm = np.linspace(-offset, offset, n_offsets)\n",
    "#offsets_ppm = np.linspace(110, 130, n_offsets)\n",
    "offsets = offsets_ppm * 42.577 * 2 * np.pi * B0\n",
    "if len(offsets)==1:\n",
    "    offsets=-offsets"
   ]
  },
  {
   "cell_type": "markdown",
   "metadata": {},
   "source": [
    "# simulation"
   ]
  },
  {
   "cell_type": "code",
   "execution_count": 3,
   "metadata": {},
   "outputs": [],
   "source": [
    "# create Sim object\n",
    "Sim = BMCTool(b0=B0,\n",
    "              n_pools=n_pools,\n",
    "              t1_values=T1n,\n",
    "              t2_values=T2n,\n",
    "              poolsizes=fn,\n",
    "              resonances=dwn,\n",
    "              exchange_rates=kn,\n",
    "              track=track)\n",
    "\n",
    "N = 1 if par_calc else len(offsets)\n",
    "m = len(offsets) if par_calc else 1\n",
    "\n",
    "M_ = np.zeros([len(offsets), 3*n_pools, 1])\n",
    "\n",
    "# set initial magnetization\n",
    "Sim.set_M(m)\n",
    "\n",
    "for i in range(N):\n",
    "    x = offsets if par_calc else offsets[i]\n",
    "    \n",
    "    # simulate recovery\n",
    "    if trec != 0:\n",
    "        Sim.solve(x, 0, trec, int(trec/tp*n_timesteps), shape='Pause')\n",
    "\n",
    "    # simulate saturation\n",
    "    for n in range(n_p):\n",
    "        if n != 0 and td != 0:\n",
    "            Sim.solve(x, b1=0, pulse_dur=td, steps=int(td/tp*n_timesteps), shape='Pause')\n",
    "        Sim.solve(x, b1=B1, pulse_dur=tp, steps=n_timesteps, shape=shape)\n",
    "\n",
    "    if not par_calc:\n",
    "        M_[i,] = Sim.M_\n",
    "\n",
    "        \n",
    "# get magnetization vector\n",
    "if par_calc:\n",
    "    M = Sim.M_\n",
    "else:\n",
    "    M = M_"
   ]
  },
  {
   "cell_type": "code",
   "execution_count": 4,
   "metadata": {},
   "outputs": [
    {
     "data": {
      "text/plain": [
       "[<matplotlib.lines.Line2D at 0x29725622f48>]"
      ]
     },
     "execution_count": 4,
     "metadata": {},
     "output_type": "execute_result"
    }
   ],
   "source": [
    "fig, ax = plt.subplots(figsize=(12,9))\n",
    "ax.plot(Sim.t, Sim.amp_)"
   ]
  },
  {
   "cell_type": "markdown",
   "metadata": {},
   "source": [
    "# Plot time curve (Signal vs. time)"
   ]
  },
  {
   "cell_type": "code",
   "execution_count": 5,
   "metadata": {
    "scrolled": true
   },
   "outputs": [
    {
     "data": {
      "text/plain": [
       "Text(0, 0.5, 'normalized signal')"
      ]
     },
     "execution_count": 5,
     "metadata": {},
     "output_type": "execute_result"
    }
   ],
   "source": [
    "fig, ax = plt.subplots()\n",
    "\n",
    "idx = int(np.where(offsets == offsets[np.abs(offsets - dwn[1]).argmin()])[0])\n",
    "\n",
    "ax.plot(Sim.t, Sim.Mt[:,idx,2,0], marker=None, markersize=8, linestyle='-', linewidth=2)\n",
    "ax.set_xlabel('time [s]', fontsize=20)\n",
    "ax.set_ylabel('normalized signal', fontsize=20)"
   ]
  },
  {
   "cell_type": "markdown",
   "metadata": {},
   "source": [
    "# Plot magnetization trajectory"
   ]
  },
  {
   "cell_type": "code",
   "execution_count": 6,
   "metadata": {},
   "outputs": [
    {
     "data": {
      "text/plain": [
       "[<mpl_toolkits.mplot3d.art3d.Line3D at 0x2972581a908>]"
      ]
     },
     "execution_count": 6,
     "metadata": {},
     "output_type": "execute_result"
    }
   ],
   "source": [
    "fig = plt.figure()\n",
    "ax = fig.add_subplot(111, projection='3d')\n",
    "\n",
    "ax.set_xlim3d(-1.1, 1.1)\n",
    "ax.set_ylim3d(-1.1, 1.1)\n",
    "ax.set_zlim3d(   0, 1.1)\n",
    "\n",
    "ax.plot3D(Sim.Mt[:,idx,0,0], Sim.Mt[:,idx,1,0], Sim.Mt[:,idx,2,0], 'gray')\n",
    "#ax.scatter(Mt[:,0,0,0], Mt[:,0,1,0], Mt[:,0,2,0], zdir='z')\n"
   ]
  },
  {
   "cell_type": "code",
   "execution_count": 7,
   "metadata": {},
   "outputs": [
    {
     "name": "stdout",
     "output_type": "stream",
     "text": [
      "1399\n"
     ]
    },
    {
     "data": {
      "text/plain": [
       "<mpl_toolkits.mplot3d.art3d.Line3DCollection at 0x29725741048>"
      ]
     },
     "execution_count": 7,
     "metadata": {},
     "output_type": "execute_result"
    }
   ],
   "source": [
    "xxx = np.zeros(len(Sim.Mt[1:,0,0,0]))\n",
    "print(len(xxx))\n",
    "ax.quiver(xxx,xxx,xxx,\n",
    "          Sim.Mt[1:,0,0,0], Sim.Mt[1:,0,1,0], Sim.Mt[1:,0,2,0],\n",
    "          arrow_length_ratio=0.1,\n",
    "          pivot='tail')"
   ]
  },
  {
   "cell_type": "markdown",
   "metadata": {},
   "source": [
    "# Magnetization Video"
   ]
  },
  {
   "cell_type": "code",
   "execution_count": 8,
   "metadata": {},
   "outputs": [],
   "source": [
    "matplotlib.use(\"Agg\")\n",
    "\n",
    "fig = plt.figure()\n",
    "ax = fig.add_subplot(111, projection='3d')\n",
    "ax.view_init(elev=30, azim=-60)"
   ]
  },
  {
   "cell_type": "code",
   "execution_count": 9,
   "metadata": {},
   "outputs": [],
   "source": [
    "fig.gca().cla()\n",
    "\n",
    "tt = Sim.t\n",
    "xx = Sim.Mt[:,idx,0,0]\n",
    "yy = Sim.Mt[:,idx,1,0]\n",
    "zz = Sim.Mt[:,idx,2,0]\n",
    "\n",
    "ax.set_xlim3d(-1.1, 1.1)\n",
    "ax.set_ylim3d(-1.1, 1.1)\n",
    "ax.set_zlim3d(   0, 1.1)\n",
    "\n",
    "ax.set_axis_off()\n",
    "\n",
    "x_ax = ax.quiver(-1.1,0,0,2.2,0,0, color='grey', arrow_length_ratio=0.05)\n",
    "y_ax = ax.quiver(0,1.1,0,0,-2.2,0, color='grey', arrow_length_ratio=0.05)\n",
    "z_ax = ax.quiver(0,0,0,0,0,1.2, color='grey', arrow_length_ratio=0.1)\n",
    "\n",
    "b_vec = ax.quiver(0,0,0,0,0,0,\n",
    "                  length=1.1, normalize=True, \n",
    "                  color='black',\n",
    "                  lw=2,\n",
    "                  arrow_length_ratio=0.1)\n",
    "   \n",
    "line, = ax.plot([0,0], [0,0], [0,0], color='red')\n",
    "          \n",
    "vec = ax.quiver(0,0,0,0,0,0,\n",
    "                arrow_length_ratio=0.1,\n",
    "                pivot='tail',\n",
    "                color='yellow')\n",
    "\n",
    "def update(t):\n",
    "    \n",
    "    line.set_data(xx[:t], yy[:t])\n",
    "    line.set_3d_properties(zz[:t])\n",
    "    \n",
    "    global vec\n",
    "    vec.remove()   \n",
    "    vec = ax.quiver(0,0,0,xx[t],yy[t],zz[t],\n",
    "                    arrow_length_ratio=0.1,\n",
    "                    pivot='tail',\n",
    "                    color='blue')\n",
    "    \n",
    "    global b_vec\n",
    "    b_vec.remove()\n",
    "    #print(42.577e6*2*np.pi*Sim.amp_[t])\n",
    "    #print(offsets[idx])\n",
    "    b_vec = ax.quiver(0,0,0,42.577e6*2*np.pi*Sim.amp_[t], 0, offsets[idx],\n",
    "                  length=1.1, normalize=True, \n",
    "                  color='black',\n",
    "                  lw=2,\n",
    "                  arrow_length_ratio=0.1)\n",
    "\n",
    "    return (line,)\n",
    "    \n",
    "# Set up formatting for the movie files\n",
    "#Writer = animation.writers['ffmpeg']\n",
    "#writer = Writer(fps=1000, bitrate=1800)\n",
    "\n",
    "ani = animation.FuncAnimation(fig, update, len(xx), interval=20)"
   ]
  },
  {
   "cell_type": "code",
   "execution_count": 10,
   "metadata": {},
   "outputs": [
    {
     "ename": "RuntimeError",
     "evalue": "Requested MovieWriter (ffmpeg) not available",
     "output_type": "error",
     "traceback": [
      "\u001b[1;31m---------------------------------------------------------------------------\u001b[0m",
      "\u001b[1;31mKeyError\u001b[0m                                  Traceback (most recent call last)",
      "\u001b[1;32m~\\anaconda3\\envs\\Python37\\lib\\site-packages\\matplotlib\\animation.py\u001b[0m in \u001b[0;36m__getitem__\u001b[1;34m(self, name)\u001b[0m\n\u001b[0;32m    160\u001b[0m         \u001b[1;32mtry\u001b[0m\u001b[1;33m:\u001b[0m\u001b[1;33m\u001b[0m\u001b[1;33m\u001b[0m\u001b[0m\n\u001b[1;32m--> 161\u001b[1;33m             \u001b[1;32mreturn\u001b[0m \u001b[0mself\u001b[0m\u001b[1;33m.\u001b[0m\u001b[0mavail\u001b[0m\u001b[1;33m[\u001b[0m\u001b[0mname\u001b[0m\u001b[1;33m]\u001b[0m\u001b[1;33m\u001b[0m\u001b[1;33m\u001b[0m\u001b[0m\n\u001b[0m\u001b[0;32m    162\u001b[0m         \u001b[1;32mexcept\u001b[0m \u001b[0mKeyError\u001b[0m\u001b[1;33m:\u001b[0m\u001b[1;33m\u001b[0m\u001b[1;33m\u001b[0m\u001b[0m\n",
      "\u001b[1;31mKeyError\u001b[0m: 'ffmpeg'",
      "\nDuring handling of the above exception, another exception occurred:\n",
      "\u001b[1;31mRuntimeError\u001b[0m                              Traceback (most recent call last)",
      "\u001b[1;32m<ipython-input-10-ce972214c915>\u001b[0m in \u001b[0;36m<module>\u001b[1;34m\u001b[0m\n\u001b[0;32m      1\u001b[0m \u001b[1;31m#ani.save('WASABI_-2ppm.mp4', writer=writer)\u001b[0m\u001b[1;33m\u001b[0m\u001b[1;33m\u001b[0m\u001b[1;33m\u001b[0m\u001b[0m\n\u001b[1;32m----> 2\u001b[1;33m \u001b[0mHTML\u001b[0m\u001b[1;33m(\u001b[0m\u001b[0mani\u001b[0m\u001b[1;33m.\u001b[0m\u001b[0mto_html5_video\u001b[0m\u001b[1;33m(\u001b[0m\u001b[1;33m)\u001b[0m\u001b[1;33m)\u001b[0m \u001b[1;31m# show as video player in notebook\u001b[0m\u001b[1;33m\u001b[0m\u001b[1;33m\u001b[0m\u001b[0m\n\u001b[0m",
      "\u001b[1;32m~\\anaconda3\\envs\\Python37\\lib\\site-packages\\matplotlib\\animation.py\u001b[0m in \u001b[0;36mto_html5_video\u001b[1;34m(self, embed_limit)\u001b[0m\n\u001b[0;32m   1324\u001b[0m                 \u001b[1;31m# We create a writer manually so that we can get the\u001b[0m\u001b[1;33m\u001b[0m\u001b[1;33m\u001b[0m\u001b[1;33m\u001b[0m\u001b[0m\n\u001b[0;32m   1325\u001b[0m                 \u001b[1;31m# appropriate size for the tag\u001b[0m\u001b[1;33m\u001b[0m\u001b[1;33m\u001b[0m\u001b[1;33m\u001b[0m\u001b[0m\n\u001b[1;32m-> 1326\u001b[1;33m                 \u001b[0mWriter\u001b[0m \u001b[1;33m=\u001b[0m \u001b[0mwriters\u001b[0m\u001b[1;33m[\u001b[0m\u001b[0mrcParams\u001b[0m\u001b[1;33m[\u001b[0m\u001b[1;34m'animation.writer'\u001b[0m\u001b[1;33m]\u001b[0m\u001b[1;33m]\u001b[0m\u001b[1;33m\u001b[0m\u001b[1;33m\u001b[0m\u001b[0m\n\u001b[0m\u001b[0;32m   1327\u001b[0m                 writer = Writer(codec='h264',\n\u001b[0;32m   1328\u001b[0m                                 \u001b[0mbitrate\u001b[0m\u001b[1;33m=\u001b[0m\u001b[0mrcParams\u001b[0m\u001b[1;33m[\u001b[0m\u001b[1;34m'animation.bitrate'\u001b[0m\u001b[1;33m]\u001b[0m\u001b[1;33m,\u001b[0m\u001b[1;33m\u001b[0m\u001b[1;33m\u001b[0m\u001b[0m\n",
      "\u001b[1;32m~\\anaconda3\\envs\\Python37\\lib\\site-packages\\matplotlib\\animation.py\u001b[0m in \u001b[0;36m__getitem__\u001b[1;34m(self, name)\u001b[0m\n\u001b[0;32m    162\u001b[0m         \u001b[1;32mexcept\u001b[0m \u001b[0mKeyError\u001b[0m\u001b[1;33m:\u001b[0m\u001b[1;33m\u001b[0m\u001b[1;33m\u001b[0m\u001b[0m\n\u001b[0;32m    163\u001b[0m             raise RuntimeError(\n\u001b[1;32m--> 164\u001b[1;33m                 'Requested MovieWriter ({}) not available'.format(name))\n\u001b[0m\u001b[0;32m    165\u001b[0m \u001b[1;33m\u001b[0m\u001b[0m\n\u001b[0;32m    166\u001b[0m \u001b[1;33m\u001b[0m\u001b[0m\n",
      "\u001b[1;31mRuntimeError\u001b[0m: Requested MovieWriter (ffmpeg) not available"
     ]
    }
   ],
   "source": [
    "#ani.save('WASABI_-2ppm.mp4', writer=writer)\n",
    "HTML(ani.to_html5_video()) # show as video player in notebook"
   ]
  },
  {
   "cell_type": "code",
   "execution_count": null,
   "metadata": {},
   "outputs": [],
   "source": []
  },
  {
   "cell_type": "code",
   "execution_count": null,
   "metadata": {},
   "outputs": [],
   "source": []
  },
  {
   "cell_type": "code",
   "execution_count": null,
   "metadata": {},
   "outputs": [],
   "source": []
  },
  {
   "cell_type": "code",
   "execution_count": 11,
   "metadata": {},
   "outputs": [],
   "source": [
    "matplotlib.use(\"Agg\")\n",
    "\n",
    "fig2 = plt.figure(figsize=(12,9))\n",
    "ax2 = fig2.add_subplot(111)"
   ]
  },
  {
   "cell_type": "code",
   "execution_count": 12,
   "metadata": {},
   "outputs": [
    {
     "name": "stdout",
     "output_type": "stream",
     "text": [
      "1400\n"
     ]
    },
    {
     "ename": "RuntimeError",
     "evalue": "Requested MovieWriter (ffmpeg) not available",
     "output_type": "error",
     "traceback": [
      "\u001b[1;31m---------------------------------------------------------------------------\u001b[0m",
      "\u001b[1;31mKeyError\u001b[0m                                  Traceback (most recent call last)",
      "\u001b[1;32m~\\anaconda3\\envs\\Python37\\lib\\site-packages\\matplotlib\\animation.py\u001b[0m in \u001b[0;36m__getitem__\u001b[1;34m(self, name)\u001b[0m\n\u001b[0;32m    160\u001b[0m         \u001b[1;32mtry\u001b[0m\u001b[1;33m:\u001b[0m\u001b[1;33m\u001b[0m\u001b[1;33m\u001b[0m\u001b[0m\n\u001b[1;32m--> 161\u001b[1;33m             \u001b[1;32mreturn\u001b[0m \u001b[0mself\u001b[0m\u001b[1;33m.\u001b[0m\u001b[0mavail\u001b[0m\u001b[1;33m[\u001b[0m\u001b[0mname\u001b[0m\u001b[1;33m]\u001b[0m\u001b[1;33m\u001b[0m\u001b[1;33m\u001b[0m\u001b[0m\n\u001b[0m\u001b[0;32m    162\u001b[0m         \u001b[1;32mexcept\u001b[0m \u001b[0mKeyError\u001b[0m\u001b[1;33m:\u001b[0m\u001b[1;33m\u001b[0m\u001b[1;33m\u001b[0m\u001b[0m\n",
      "\u001b[1;31mKeyError\u001b[0m: 'ffmpeg'",
      "\nDuring handling of the above exception, another exception occurred:\n",
      "\u001b[1;31mRuntimeError\u001b[0m                              Traceback (most recent call last)",
      "\u001b[1;32m<ipython-input-12-0575625fd6d5>\u001b[0m in \u001b[0;36m<module>\u001b[1;34m\u001b[0m\n\u001b[0;32m     15\u001b[0m \u001b[1;33m\u001b[0m\u001b[0m\n\u001b[0;32m     16\u001b[0m \u001b[1;31m# Set up formatting for the movie files\u001b[0m\u001b[1;33m\u001b[0m\u001b[1;33m\u001b[0m\u001b[1;33m\u001b[0m\u001b[0m\n\u001b[1;32m---> 17\u001b[1;33m \u001b[0mWriter2\u001b[0m \u001b[1;33m=\u001b[0m \u001b[0manimation\u001b[0m\u001b[1;33m.\u001b[0m\u001b[0mwriters\u001b[0m\u001b[1;33m[\u001b[0m\u001b[1;34m'ffmpeg'\u001b[0m\u001b[1;33m]\u001b[0m\u001b[1;33m\u001b[0m\u001b[1;33m\u001b[0m\u001b[0m\n\u001b[0m\u001b[0;32m     18\u001b[0m \u001b[0mwriter2\u001b[0m \u001b[1;33m=\u001b[0m \u001b[0mWriter2\u001b[0m\u001b[1;33m(\u001b[0m\u001b[0mfps\u001b[0m\u001b[1;33m=\u001b[0m\u001b[1;36m30\u001b[0m\u001b[1;33m,\u001b[0m \u001b[0mbitrate\u001b[0m\u001b[1;33m=\u001b[0m\u001b[1;36m1800\u001b[0m\u001b[1;33m)\u001b[0m\u001b[1;33m\u001b[0m\u001b[1;33m\u001b[0m\u001b[0m\n\u001b[0;32m     19\u001b[0m \u001b[1;33m\u001b[0m\u001b[0m\n",
      "\u001b[1;32m~\\anaconda3\\envs\\Python37\\lib\\site-packages\\matplotlib\\animation.py\u001b[0m in \u001b[0;36m__getitem__\u001b[1;34m(self, name)\u001b[0m\n\u001b[0;32m    162\u001b[0m         \u001b[1;32mexcept\u001b[0m \u001b[0mKeyError\u001b[0m\u001b[1;33m:\u001b[0m\u001b[1;33m\u001b[0m\u001b[1;33m\u001b[0m\u001b[0m\n\u001b[0;32m    163\u001b[0m             raise RuntimeError(\n\u001b[1;32m--> 164\u001b[1;33m                 'Requested MovieWriter ({}) not available'.format(name))\n\u001b[0m\u001b[0;32m    165\u001b[0m \u001b[1;33m\u001b[0m\u001b[0m\n\u001b[0;32m    166\u001b[0m \u001b[1;33m\u001b[0m\u001b[0m\n",
      "\u001b[1;31mRuntimeError\u001b[0m: Requested MovieWriter (ffmpeg) not available"
     ]
    }
   ],
   "source": [
    "fig2.gca().cla()\n",
    "\n",
    "tt = Sim.t\n",
    "zz = Sim.Mt[:,0,2,0]\n",
    "print(len(tt))\n",
    "\n",
    "ax2.set_xlim(0, np.max(tt))\n",
    "ax2.set_ylim(0, 1.1)\n",
    "line2, = ax2.plot([0,0], [0,0], color='red')\n",
    "          \n",
    "def update2(t):\n",
    "    \n",
    "    line2.set_data(tt[:t], zz[:t])\n",
    "    return (line2,)\n",
    "    \n",
    "# Set up formatting for the movie files\n",
    "Writer2 = animation.writers['ffmpeg']\n",
    "writer2 = Writer2(fps=30, bitrate=1800)\n",
    "\n",
    "ani2 = animation.FuncAnimation(fig2, update2, len(tt))"
   ]
  },
  {
   "cell_type": "code",
   "execution_count": null,
   "metadata": {},
   "outputs": [],
   "source": [
    "#ani2.save('Z_vs_time.mp4', writer=writer)\n",
    "HTML(ani2.to_html5_video()) # show as video player in notebook"
   ]
  }
 ],
 "metadata": {
  "kernelspec": {
   "display_name": "Python 3",
   "language": "python",
   "name": "python3"
  },
  "language_info": {
   "codemirror_mode": {
    "name": "ipython",
    "version": 3
   },
   "file_extension": ".py",
   "mimetype": "text/x-python",
   "name": "python",
   "nbconvert_exporter": "python",
   "pygments_lexer": "ipython3",
   "version": "3.7.7"
  }
 },
 "nbformat": 4,
 "nbformat_minor": 4
}

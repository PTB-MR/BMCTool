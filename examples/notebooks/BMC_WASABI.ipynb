{
 "cells": [
  {
   "cell_type": "markdown",
   "metadata": {},
   "source": [
    "# Imports"
   ]
  },
  {
   "cell_type": "code",
   "execution_count": 1,
   "metadata": {},
   "outputs": [],
   "source": [
    "# Standard library imports\n",
    "import sys\n",
    "import os\n",
    "\n",
    "# Add path\n",
    "sys.path.append(os.path.join('D:\\\\','OneDrive','Dokumente','Python','BMCSim'))\n",
    "\n",
    "# Third party imports\n",
    "import matplotlib\n",
    "import numpy as np\n",
    "import matplotlib.pyplot as plt\n",
    "import matplotlib.animation as animation\n",
    "from mpl_toolkits.mplot3d import Axes3D\n",
    "from IPython.display import HTML\n",
    "\n",
    "# Local application imports\n",
    "from BMCtool import BMCTool"
   ]
  },
  {
   "cell_type": "markdown",
   "metadata": {},
   "source": [
    "# settings"
   ]
  },
  {
   "cell_type": "code",
   "execution_count": 2,
   "metadata": {},
   "outputs": [],
   "source": [
    "%matplotlib qt\n",
    "\n",
    "# simulation settings\n",
    "n_timesteps = 1  # number of timesteps for each RF pulse\n",
    "track = True  # track the magnetization trajectory during pulses/delays ?!\n",
    "par_calc = False  # calculate all offsets in parallel instead of subsequently\n",
    "\n",
    "# experimental settings\n",
    "B0 = 7  # B0 in T\n",
    "B1 = 1.25e-6*B0  # B1 in T (for WASABI use 1.25e-6*B0)\n",
    "n_p = 1  # number of saturation pulses\n",
    "tp = 0.015/B0  # pulse duration in s (for WASABI use 0.015/B0)\n",
    "td = 0  # delay between pulses in s\n",
    "shape = 'CW'\n",
    "trec = 3  # recovery/delay time between offsets in s\n",
    "offset = 2  # max offset in ppm\n",
    "n_offsets = 101  # number of offsets\n",
    "\n",
    "td2 = 0.5\n",
    "\n",
    "# sample settings\n",
    "T1 = 2            #T1 in s\n",
    "T2 = 0.05            #T2 in s\n",
    "\n",
    "# CEST settings\n",
    "n_pools = 1\n",
    "\n",
    "#                bulk       1st       2nd       3rd       4th       5th       6th\n",
    "T1n = np.array([   T1,       T1,       T1,       T1,       T1,       T1,       T1])\n",
    "T2n = np.array([   T2,     0.15,     9e-6,     0.15,    0.015,     9e-6,    0.015])\n",
    "fn  = np.array([    1,    0.002,     0.14,    0.005,    0.005,     0.14,     0.01])\n",
    "dwn = np.array([ -0.0,      1.3,     -2.6,     -3.3,     -3.7,     -2.6,     -1.0])\n",
    "kn  = np.array([    0,     2000,       40,     2000,     2000,       40,      500])\n",
    "\n",
    "# calculate offsets\n",
    "offsets = np.linspace(-offset, offset, n_offsets)"
   ]
  },
  {
   "cell_type": "markdown",
   "metadata": {},
   "source": [
    "# simulation"
   ]
  },
  {
   "cell_type": "code",
   "execution_count": 3,
   "metadata": {},
   "outputs": [],
   "source": [
    "# create Sim object\n",
    "Sim = BMCTool(b0=B0,\n",
    "              n_pools=n_pools,\n",
    "              t1_values=T1n,\n",
    "              t2_values=T2n,\n",
    "              poolsizes=fn,\n",
    "              resonances=dwn,\n",
    "              exchange_rates=kn,\n",
    "              track=track)\n",
    "\n",
    "if par_calc:\n",
    "    # set initial magnetization\n",
    "    Sim.set_M(offsets.shape[0])\n",
    " \n",
    "    # simulate recovery\n",
    "    Sim.solve(offsets, 0, trec, n_timesteps, shape=shape)\n",
    "\n",
    "    # simulate saturation pulse train\n",
    "    for n in range(n_p):\n",
    "        # delay between pulses (not for the first pulse)\n",
    "        if n != 0 and td != 0:\n",
    "            Sim.solve(offsets, b1=0, pulse_dur=td, steps=int(td/tp*n_timesteps))\n",
    "        # saturation\n",
    "        Sim.solve(offsets, b1=B1, pulse_dur=tp, steps=int(n_timesteps), shape=shape)\n",
    "        \n",
    "    M = Sim.M_\n",
    "else:\n",
    "    # create array for magnetization values\n",
    "    M = np.zeros([len(offsets), 3*n_pools, 1])\n",
    "    \n",
    "    # set initial magnetization\n",
    "    Sim.set_M(1)\n",
    "\n",
    "    for i in range(offsets.shape[0]):\n",
    "        # simulate recovery\n",
    "        if trec > 0:\n",
    "            Sim.solve(offsets[i], 0, trec, n_timesteps, shape='PAUSE')\n",
    "\n",
    "        # simulate saturation pulse train\n",
    "        for n in range(n_p):\n",
    "            if n != 0 and td != 0:\n",
    "                Sim.solve(offsets[i], b1=0, pulse_dur=td, steps=int(td/tp*n_timesteps))\n",
    "            Sim.solve(offsets[i], b1=B1, pulse_dur=tp, steps=int(n_timesteps), shape=shape)\n",
    "            \n",
    "        # simulate delay\n",
    "        Sim.solve(offsets[i], b1=0, pulse_dur=td2, steps=int(n_timesteps), shape=shape)\n",
    "        \n",
    "        # write magnetization in array\n",
    "        M[i,] = Sim.M_"
   ]
  },
  {
   "cell_type": "markdown",
   "metadata": {},
   "source": [
    "# Plot spektrum (Signal vs. offsets) and Asymmetry"
   ]
  },
  {
   "cell_type": "code",
   "execution_count": null,
   "metadata": {},
   "outputs": [],
   "source": [
    "fig, ax = plt.subplots(figsize=(12,9))\n",
    "\n",
    "ax.plot(offsets, M[:,2,0], marker='o', linestyle='--', linewidth=2, color='black')\n",
    "ax.set_xlabel('frequency offset [ppm]', fontsize=20)\n",
    "ax.set_ylabel('normalized signal', fontsize=20)\n",
    "ax.set_ylim([-0.1,1])\n",
    "ax.invert_xaxis()\n",
    "ax.grid()\n",
    "\n",
    "# substract left from right side\n",
    "asym = M[::-1,2,0] - M[:,2,0]\n",
    "# get indices of possitive offsets\n",
    "idx = np.where(np.logical_and(offsets >= 0, offsets <= np.amax(offsets)))\n",
    "# plot asymmetry data\n",
    "ax.plot(offsets[idx],asym[idx],color='r',linestyle='--')"
   ]
  },
  {
   "cell_type": "code",
   "execution_count": null,
   "metadata": {},
   "outputs": [],
   "source": [
    "ax.plot(offsets, M[:,2,0])"
   ]
  },
  {
   "cell_type": "markdown",
   "metadata": {},
   "source": [
    "# Plot (on-resonant) time curve (only available if track=True)"
   ]
  },
  {
   "cell_type": "code",
   "execution_count": null,
   "metadata": {},
   "outputs": [],
   "source": [
    "%matplotlib qt\n",
    "\n",
    "# find index closest to CEST resonance\n",
    "#idx = int(np.where(offsets == offsets[np.abs(offsets - dwn[1]).argmin()])[0])\n",
    "idx = 0\n",
    "\n",
    "fig, ax = plt.subplots(figsize=(12,9))\n",
    "l1 = ax.plot(Sim.t, Sim.Mt[:,idx,2,0], marker='o', markersize=8, linestyle='-', linewidth=2)\n",
    "ax.set_xlabel('time [s]', fontsize=20)\n",
    "ax.set_ylabel('normalized signal', fontsize=20)\n",
    "ax.tick_params(labelsize=18)"
   ]
  },
  {
   "cell_type": "markdown",
   "metadata": {},
   "source": [
    "# Plot magnetization trajectory"
   ]
  },
  {
   "cell_type": "code",
   "execution_count": null,
   "metadata": {},
   "outputs": [],
   "source": [
    "%matplotlib inline\n",
    "\n",
    "fig = plt.figure(figsize=(15,10))\n",
    "ax = fig.add_subplot(111, projection='3d')\n",
    "ax.plot3D(Sim.Mt[:,idx,0,0], Sim.Mt[:,idx,1,0], Sim.Mt[:,idx,2,0], 'red')"
   ]
  },
  {
   "cell_type": "markdown",
   "metadata": {},
   "source": [
    "# Fitting of data"
   ]
  },
  {
   "cell_type": "code",
   "execution_count": null,
   "metadata": {},
   "outputs": [],
   "source": [
    "from lmfit import Model\n",
    "from lmfit import models\n",
    "from lmfit import Parameters\n",
    "\n",
    "def wasabi(x, B0, B1, c, d, freq, tp):\n",
    "    \"\"\"WASABI function for simultaneous determination of B1 and B0. For more information read:\n",
    "    Schuenke et al. Magnetic Resonance in Medicine, 77(2), 571–580. https://doi.org/10.1002/mrm.26133\"\"\"\n",
    "    gamma = 42.577\n",
    "    return np.abs(c - d * np.square(np.sin(np.arctan((B1 / (freq / gamma)) / (x - B0)))) *\n",
    "                  np.square(np.sin(np.sqrt(np.square(B1 / (freq / gamma)) +\n",
    "                                           np.square(x - B0)) * freq * 2 * np.pi * tp / 2)))\n",
    "\n",
    "def wasabiti(x, B0, B1, )\n",
    "\n",
    "model = Model(wasabi)\n",
    "params = model.make_params()\n",
    "params['amp'].set(1, min=0)\n",
    "params['decay'].set(20, min=0)\n",
    "\n",
    "# to avoid dot notation in loop (for speed reasons) a 'local_fit' is created\n",
    "local_fit = model.fit\n",
    "fit_kws = {'maxfev': 100, 'ftol': 1.49012e-05}\n",
    "\n",
    "# Calculate mask\n",
    "mask = np.zeros((img_stack.shape[1],img_stack.shape[2]))\n",
    "mask[img_stack[0,] > 0] = 1\n",
    "\n",
    "param_results = np.zeros([img_stack.shape[1], img_stack.shape[2], len(params)])\n",
    "\n",
    "for i in range(img_stack_noisy.shape[1]):\n",
    "    for j in range(img_stack_noisy.shape[2]):\n",
    "        # skip pixel that are not in the segment\n",
    "        if not mask[i, j]:\n",
    "            continue\n",
    "        else:\n",
    "            result = local_fit(img_stack_noisy[:, i, j], params, x=TSL, fit_kws=fit_kws)\n",
    "            result = list(result.params.valuesdict().items())\n",
    "            param_result_list = []\n",
    "            for name, value in result:\n",
    "                param_result_list.append(value)\n",
    "            param_results[i, j, :] = param_result_list"
   ]
  }
 ],
 "metadata": {
  "kernelspec": {
   "display_name": "Python 3",
   "language": "python",
   "name": "python3"
  },
  "language_info": {
   "codemirror_mode": {
    "name": "ipython",
    "version": 3
   },
   "file_extension": ".py",
   "mimetype": "text/x-python",
   "name": "python",
   "nbconvert_exporter": "python",
   "pygments_lexer": "ipython3",
   "version": "3.7.7"
  }
 },
 "nbformat": 4,
 "nbformat_minor": 4
}

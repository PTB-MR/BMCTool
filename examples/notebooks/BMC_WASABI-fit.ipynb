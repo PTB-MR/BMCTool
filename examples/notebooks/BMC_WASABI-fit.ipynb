{
 "cells": [
  {
   "cell_type": "markdown",
   "metadata": {},
   "source": [
    "# Imports"
   ]
  },
  {
   "cell_type": "code",
   "execution_count": null,
   "metadata": {},
   "outputs": [],
   "source": [
    "# Standard library imports\n",
    "import sys\n",
    "import os\n",
    "\n",
    "# Add path\n",
    "sys.path.append(os.path.join('C:\\\\','Users','schuen02','Documents', 'Code', 'Python', 'BMCSim'))\n",
    "\n",
    "# Third party imports\n",
    "import matplotlib\n",
    "import numpy as np\n",
    "import matplotlib.pyplot as plt\n",
    "import matplotlib.animation as animation\n",
    "from mpl_toolkits.mplot3d import Axes3D\n",
    "from IPython.display import HTML\n",
    "\n",
    "# Local application imports\n",
    "from BMCtool import BMCTool"
   ]
  },
  {
   "cell_type": "markdown",
   "metadata": {},
   "source": [
    "# Settings"
   ]
  },
  {
   "cell_type": "code",
   "execution_count": null,
   "metadata": {},
   "outputs": [],
   "source": [
    "%matplotlib qt\n",
    "\n",
    "# simulation settings\n",
    "n_timesteps = 1  # number of timesteps for each RF pulse\n",
    "track = False  # track the magnetization trajectory during pulses/delays ?!\n",
    "par_calc = True  # calculate all offsets in parallel instead of subsequently\n",
    "\n",
    "# experimental settings\n",
    "B0 = 7  # B0 in T\n",
    "B1 = 1.25e-6*B0  # B1 in T (for WASABI use 1.25e-6*B0)\n",
    "n_p = 1  # number of saturation pulses\n",
    "tp = 0.015/B0  # pulse duration in s (for WASABI use 0.015/B0)\n",
    "td = 0  # delay between pulses in s\n",
    "shape = 'CW'\n",
    "trec = 2  # recovery/delay time between offsets in s\n",
    "offset = 2  # max offset in ppm\n",
    "n_offsets = 41  # number of offsets\n",
    "\n",
    "td2 = 0.5\n",
    "\n",
    "# sample settings\n",
    "T1 = 2            #T1 in s\n",
    "T2 = 0.05            #T2 in s\n",
    "\n",
    "# CEST settings\n",
    "n_pools = 1\n",
    "\n",
    "#                bulk       1st       2nd       3rd       4th       5th       6th\n",
    "T1n = np.array([   T1,       T1,       T1,       T1,       T1,       T1,       T1])\n",
    "T2n = np.array([   T2,     0.15,     9e-6,     0.15,    0.015,     9e-6,    0.015])\n",
    "fn  = np.array([    1,    0.002,     0.14,    0.005,    0.005,     0.14,     0.01])\n",
    "dwn = np.array([ -0.3,      1.3,     -2.6,     -3.3,     -3.7,     -2.6,     -1.0])\n",
    "kn  = np.array([    0,     2000,       40,     2000,     2000,       40,      500])\n",
    "\n",
    "# calculate offsets\n",
    "offsets = np.linspace(-offset, offset, n_offsets)"
   ]
  },
  {
   "cell_type": "markdown",
   "metadata": {},
   "source": [
    "# Simulation and Noise"
   ]
  },
  {
   "cell_type": "code",
   "execution_count": null,
   "metadata": {},
   "outputs": [],
   "source": [
    "# create Sim object\n",
    "Sim = BMCTool(b0=B0,\n",
    "              n_pools=n_pools,\n",
    "              t1_values=T1n,\n",
    "              t2_values=T2n,\n",
    "              poolsizes=fn,\n",
    "              resonances=dwn,\n",
    "              exchange_rates=kn,\n",
    "              track=track)\n",
    "\n",
    "if par_calc:\n",
    "    # set initial magnetization\n",
    "    Sim.set_M(offsets.shape[0], np.zeros([offsets.shape[0], 3, 1]))\n",
    " \n",
    "    # simulate recovery\n",
    "    Sim.solve(offsets, 0, trec, n_timesteps, shape=shape)\n",
    "\n",
    "    # simulate saturation pulse train\n",
    "    for n in range(n_p):\n",
    "        # delay between pulses (not for the first pulse)\n",
    "        if n != 0 and td != 0:\n",
    "            Sim.solve(offsets, b1=0, pulse_dur=td, steps=int(td/tp*n_timesteps))\n",
    "        # saturation\n",
    "        Sim.solve(offsets, b1=B1, pulse_dur=tp, steps=int(n_timesteps), shape=shape)\n",
    "        \n",
    "    M = np.abs(Sim.M_)\n",
    "else:\n",
    "    # create array for magnetization values\n",
    "    M = np.zeros([len(offsets), 3*n_pools, 1])\n",
    "    \n",
    "    # set initial magnetization\n",
    "    Sim.set_M(1)\n",
    "\n",
    "    for i in range(offsets.shape[0]):\n",
    "        # simulate recovery\n",
    "        if trec > 0:\n",
    "            Sim.solve(offsets[i], 0, trec, n_timesteps, shape='PAUSE')\n",
    "\n",
    "        # simulate saturation pulse train\n",
    "        for n in range(n_p):\n",
    "            if n != 0 and td != 0:\n",
    "                Sim.solve(offsets[i], b1=0, pulse_dur=td, steps=int(td/tp*n_timesteps))\n",
    "            Sim.solve(offsets[i], b1=B1, pulse_dur=tp, steps=int(n_timesteps), shape=shape)\n",
    "            \n",
    "        # simulate delay\n",
    "        Sim.solve(offsets[i], b1=0, pulse_dur=td2, steps=int(n_timesteps), shape=shape)\n",
    "        \n",
    "        # write magnetization in array\n",
    "        M[i,] = np.abs(Sim.M_)\n",
    "\n",
    "# add noise\n",
    "sd = 0.01  # standard deviation of noise\n",
    "M[:,2,0] += np.random.normal(0, sd, offsets.shape[0])"
   ]
  },
  {
   "cell_type": "markdown",
   "metadata": {},
   "source": [
    "# Plot spektrum (Signal vs. offsets)\n",
    "## >>> DON'T CLOSE THE FIGURE <<<"
   ]
  },
  {
   "cell_type": "code",
   "execution_count": null,
   "metadata": {},
   "outputs": [],
   "source": [
    "fig, ax = plt.subplots(figsize=(12,9))\n",
    "\n",
    "ax.plot(offsets, M[:,2,0], marker='.', linestyle='None', linewidth=2, color='black')\n",
    "ax.set_xlabel('frequency offset [ppm]', fontsize=20)\n",
    "ax.set_ylabel('normalized signal', fontsize=20)\n",
    "ax.set_ylim([-0.1,1])\n",
    "ax.invert_xaxis()\n",
    "ax.grid()"
   ]
  },
  {
   "cell_type": "markdown",
   "metadata": {},
   "source": [
    "# Fitting with \"old\" function\n",
    "### dB0 is given in ppm here"
   ]
  },
  {
   "cell_type": "code",
   "execution_count": null,
   "metadata": {},
   "outputs": [],
   "source": [
    "from lmfit import Model\n",
    "from lmfit import models\n",
    "from lmfit import Parameters\n",
    "\n",
    "def wasabi(x, dB0, B1, c, d, freq, tp):\n",
    "    \"\"\"WASABI function for simultaneous determination of B1 and B0. For more information read:\n",
    "    Schuenke et al. Magnetic Resonance in Medicine, 77(2), 571–580. https://doi.org/10.1002/mrm.26133\"\"\"\n",
    "    gamma = 42.577\n",
    "    return np.abs(c - d * np.square(np.sin(np.arctan((B1 / (freq / gamma)) / (x - dB0)))) *\n",
    "                  np.square(np.sin(np.sqrt(np.square(B1 / (freq / gamma)) +\n",
    "                                           np.square(x - dB0)) * freq * 2 * np.pi * tp / 2)))\n",
    "\n",
    "fit_kws = {'ftol': 1.49012e-05}\n",
    "\n",
    "model = Model(wasabi)\n",
    "params = model.make_params()\n",
    "params['freq'].set(42.577 * B0, vary=False)\n",
    "params['tp'].set(tp, vary=False)\n",
    "params['dB0'].set(0)\n",
    "params['B1'].set(B1*1E6*0.9, min=0)\n",
    "params['c'].set(1)\n",
    "params['d'].set(1.5)\n",
    "\n",
    "result1 = model.fit(M[:,2,0], params, x=offsets, max_nfev=100, fit_kws=fit_kws)\n",
    "# print results\n",
    "print(result1.fit_report())\n",
    "# add plot to figure\n",
    "ax.plot(offsets, result1.best_fit, color='blue', linestyle=':')"
   ]
  },
  {
   "cell_type": "markdown",
   "metadata": {},
   "source": [
    "# Fitting with \"advanced\" function\n",
    "### dB0 is given in rad here"
   ]
  },
  {
   "cell_type": "code",
   "execution_count": null,
   "metadata": {},
   "outputs": [],
   "source": [
    "from lmfit import Model\n",
    "from lmfit import models\n",
    "from lmfit import Parameters\n",
    "\n",
    "def wasabiti(x, dB0, B1, R1, R2, tp, trec, B0):\n",
    "    gamma_ = 42.577 * 2 * np.pi\n",
    "    w1 = gamma_ * B1\n",
    "    dx = x-dB0\n",
    "    R1p = ((R1*dx**2)/(dx**2 + w1**2) + R2*w1**2/(dx**2 + w1**2))\n",
    "    R2p = ((2*R2+R1)/2 - R1p/2)  # from https://doi.org/10.1016/j.mri.2013.07.004\n",
    "    Mzi = 1-np.exp(-R1*trec)\n",
    "    \n",
    "    ans = np.abs(Mzi * (dx**2*np.exp(-R1p*tp)/(dx**2+w1**2) + (w1**2*np.cos(tp*np.sqrt(dx**2+w1**2)) * np.exp(-R2p*tp))/(dx**2+w1**2)) +\n",
    "                 R1 * dx**2 / (R1p*(dx**2+w1**2)) * (1-np.exp(-R1p*tp)) )\n",
    "    \n",
    "    return ans\n",
    "\n",
    "fit_kws = {'maxfev': 100, 'ftol': 1.49012e-05}\n",
    "\n",
    "model = Model(wasabiti)\n",
    "params = model.make_params()\n",
    "params['tp'].set(tp, vary=False)\n",
    "params['trec'].set(trec, vary=False)\n",
    "params['B0'].set(B0, vary=False)\n",
    "params['dB0'].set(0)\n",
    "params['B1'].set(B1*1E6*0.9, min=0)\n",
    "params['R1'].set(1, min=0)\n",
    "params['R2'].set(10, min=0, vary=True)\n",
    "\n",
    "result2 = model.fit(M[:,2,0], params, x=(offsets * 42.577 * 2 * np.pi * B0), fit_kws=fit_kws)\n",
    "print(result2.fit_report())\n",
    "print(f\"\\n dB0 in ppm = {result2.params.valuesdict()['dB0']/(42.577 * 2 * np.pi * B0)}\")\n",
    "ax.plot(offsets, result2.best_fit, color='r', linestyle='--')"
   ]
  }
 ],
 "metadata": {
  "kernelspec": {
   "display_name": "Python 3",
   "language": "python",
   "name": "python3"
  },
  "language_info": {
   "codemirror_mode": {
    "name": "ipython",
    "version": 3
   },
   "file_extension": ".py",
   "mimetype": "text/x-python",
   "name": "python",
   "nbconvert_exporter": "python",
   "pygments_lexer": "ipython3",
   "version": "3.7.7"
  }
 },
 "nbformat": 4,
 "nbformat_minor": 4
}

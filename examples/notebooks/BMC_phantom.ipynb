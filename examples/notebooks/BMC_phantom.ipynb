{
 "cells": [
  {
   "cell_type": "markdown",
   "metadata": {},
   "source": [
    "# Imports"
   ]
  },
  {
   "cell_type": "code",
   "execution_count": 1,
   "metadata": {},
   "outputs": [],
   "source": [
    "# Standard library imports\n",
    "import sys\n",
    "import os\n",
    "\n",
    "# Add path\n",
    "sys.path.append(os.path.join('D:\\\\','OneDrive','Dokumente','Python','BMCSim'))\n",
    "\n",
    "# Third party imports\n",
    "import matplotlib\n",
    "import numpy as np\n",
    "import matplotlib.pyplot as plt\n",
    "import matplotlib.animation as animation\n",
    "from mpl_toolkits.mplot3d import Axes3D\n",
    "from IPython.display import HTML\n",
    "\n",
    "# Local application imports\n",
    "from BMCtool import BMCTool"
   ]
  },
  {
   "cell_type": "markdown",
   "metadata": {},
   "source": [
    "# Settings"
   ]
  },
  {
   "cell_type": "code",
   "execution_count": 2,
   "metadata": {},
   "outputs": [],
   "source": [
    "# simulation settings\n",
    "n_timesteps = 100  # number of timesteps for each RF pulse\n",
    "track = True  # track the magnetization trajectory during pulses/delays ?!\n",
    "par_calc = True  # calculate all offsets in parallel instead of subsequently\n",
    "\n",
    "# experimental settings\n",
    "B0 = 3  # B0 in T\n",
    "B1 = 1e-6  # B1 in T (for WASABI use 1.25e-6*B0)\n",
    "n_p = 1  # number of saturation pulses\n",
    "tp = 5  # pulse duration in s (for WASABI use 0.015/B0)\n",
    "td = 0  # delay between pulses in s\n",
    "shape = 'CW'\n",
    "trec = 2.5  # recovery/delay time between offsets in s\n",
    "offset = 10  # max offset in ppm\n",
    "n_offsets = 101  # number of offsets\n",
    "\n",
    "# sample settings\n",
    "T1 = 2            #T1 in s\n",
    "T2 = 0.2            #T2 in s\n",
    "\n",
    "# CEST settings\n",
    "n_pools = 2\n",
    "\n",
    "#                bulk       1st       2nd       3rd       4th       5th       6th\n",
    "T1n = np.array([   T1,       T1,       T1,       T1,       T1,       T1,       T1])\n",
    "T2n = np.array([   T2,     0.15,     9e-6,     0.15,    0.015,     9e-6,    0.015])\n",
    "fn  = np.array([    1,    0.002,     0.14,    0.005,    0.005,     0.14,     0.01])\n",
    "dwn = np.array([ -0.0,        3,     -2.6,     -3.3,     -3.7,     -2.6,     -1.0])\n",
    "kn  = np.array([    0,      500,       40,     2000,     2000,       40,      500])\n",
    "\n",
    "# calculate offsets\n",
    "offsets = np.linspace(-offset, offset, n_offsets)"
   ]
  },
  {
   "cell_type": "markdown",
   "metadata": {},
   "source": [
    "# Simulate Z-spectrum"
   ]
  },
  {
   "cell_type": "code",
   "execution_count": 3,
   "metadata": {},
   "outputs": [],
   "source": [
    "# create Sim object\n",
    "Sim = BMCTool(b0=B0,\n",
    "              n_pools=n_pools,\n",
    "              t1_values=T1n,\n",
    "              t2_values=T2n,\n",
    "              poolsizes=fn,\n",
    "              resonances=dwn,\n",
    "              exchange_rates=kn,\n",
    "              track=track)\n",
    "\n",
    "if par_calc:\n",
    "    # set initial magnetization\n",
    "    Sim.set_M(offsets.shape[0])\n",
    " \n",
    "    # simulate recovery\n",
    "    Sim.solve(offsets, 0, trec, n_timesteps, shape=shape)\n",
    "\n",
    "    # simulate saturation pulse train\n",
    "    for n in range(n_p):\n",
    "        # delay between pulses (not for the first pulse)\n",
    "        if n != 0 and td != 0:\n",
    "            Sim.solve(offsets, b1=0, pulse_dur=td, steps=int(td/tp*n_timesteps))\n",
    "        # saturation\n",
    "        Sim.solve(offsets, b1=B1, pulse_dur=tp, steps=int(n_timesteps), shape=shape)\n",
    "        \n",
    "    M = Sim.M_\n",
    "else:\n",
    "    # create array for magnetization values\n",
    "    M = np.zeros([len(offsets), 3*n_pools, 1])\n",
    "    \n",
    "    # set initial magnetization\n",
    "    Sim.set_M(1)\n",
    "\n",
    "    for i in range(offsets.shape[0]):\n",
    "        # simulate recovery\n",
    "        Sim.solve(offsets[i], 0, trec, n_timesteps, shape='CW')\n",
    "\n",
    "        # simulate saturation pulse train\n",
    "        for n in range(n_p):\n",
    "            if n != 0 and td != 0:\n",
    "                Sim.solve(offsets[i], b1=0, pulse_dur=td, steps=int(td/tp*n_timesteps))\n",
    "            Sim.solve(offsets[i], b1=B1, pulse_dur=tp, steps=int(n_timesteps), shape=shape)\n",
    "        \n",
    "        # write magnetization in array\n",
    "        M[i,] = Sim.M_"
   ]
  },
  {
   "cell_type": "markdown",
   "metadata": {},
   "source": [
    "# Create image stack of Shepp-Logan-style images "
   ]
  },
  {
   "cell_type": "markdown",
   "metadata": {},
   "source": [
    "## define phantom function"
   ]
  },
  {
   "cell_type": "code",
   "execution_count": 4,
   "metadata": {},
   "outputs": [],
   "source": [
    "def phantom (n, ellipses):\n",
    "    \n",
    "    # Create blank image\n",
    "    p = np.zeros((n, n))\n",
    "\n",
    "    # Create the pixel grid\n",
    "    ygrid, xgrid = np.mgrid[-1:1:(1j*n), -1:1:(1j*n)]\n",
    "\n",
    "    for ellip in ellipses:\n",
    "        I   = ellip[0]\n",
    "        a2  = ellip[1]**2\n",
    "        b2  = ellip[2]**2\n",
    "        x0  = ellip[3]\n",
    "        y0  = ellip[4]\n",
    "        phi = ellip[5]*np.pi/180  # Rotation angle in radians\n",
    "\n",
    "        # Create the offset x and y values for the grid\n",
    "        x = xgrid - x0\n",
    "        y = ygrid - y0\n",
    "\n",
    "        cos_p = np.cos (phi) \n",
    "        sin_p = np.sin (phi)\n",
    "\n",
    "        # Find the pixels within the ellipse\n",
    "        locs = (((x * cos_p + y * sin_p)**2) / a2 \n",
    "              + ((y * cos_p - x * sin_p)**2) / b2) <= 1\n",
    "\n",
    "        # Add the ellipse intensity to those pixels\n",
    "        p[locs] += I\n",
    "\n",
    "    return p"
   ]
  },
  {
   "cell_type": "markdown",
   "metadata": {},
   "source": [
    "## define ellipses and image size"
   ]
  },
  {
   "cell_type": "code",
   "execution_count": 5,
   "metadata": {},
   "outputs": [],
   "source": [
    "npx = 256\n",
    "img_stack = np.zeros([n_offsets, npx, npx])\n",
    "\n",
    "for i in range(n_offsets):\n",
    "    e = [[    1,   .69,   .92,    0,      0,   0],\n",
    "         [   -1, .1600, .4100, -.22,      0,  18],\n",
    "         [+M[i,2], .1600, .4100, -.22,      0,  18],         \n",
    "         [   -1, .1100, .3100,  .22,      0, -18],\n",
    "         [+M[i,2], .1100, .3100,  .22,      0, -18]]\n",
    "    \n",
    "    img_stack[i,:,:] = phantom(n=npx, ellipses=e) "
   ]
  },
  {
   "cell_type": "markdown",
   "metadata": {},
   "source": [
    "## plot on-resonant image"
   ]
  },
  {
   "cell_type": "code",
   "execution_count": 6,
   "metadata": {},
   "outputs": [
    {
     "data": {
      "image/png": "[encoded data removed]",
      "text/plain": [
       "<Figure size 864x648 with 1 Axes>"
      ]
     },
     "metadata": {
      "needs_background": "light"
     },
     "output_type": "display_data"
    }
   ],
   "source": [
    "%matplotlib inline\n",
    "\n",
    "# find index closest to CEST resonance\n",
    "idx = int(np.where(offsets == offsets[np.abs(offsets - dwn[1]).argmin()])[0])\n",
    "\n",
    "fig, ax = plt.subplots(figsize=(12,9))\n",
    "tmp = ax.imshow(img_stack[idx,])"
   ]
  },
  {
   "cell_type": "code",
   "execution_count": null,
   "metadata": {},
   "outputs": [],
   "source": []
  }
 ],
 "metadata": {
  "kernelspec": {
   "display_name": "Python 3",
   "language": "python",
   "name": "python3"
  },
  "language_info": {
   "codemirror_mode": {
    "name": "ipython",
    "version": 3
   },
   "file_extension": ".py",
   "mimetype": "text/x-python",
   "name": "python",
   "nbconvert_exporter": "python",
   "pygments_lexer": "ipython3",
   "version": "3.7.7"
  }
 },
 "nbformat": 4,
 "nbformat_minor": 4
}

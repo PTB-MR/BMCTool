{
 "cells": [
  {
   "cell_type": "markdown",
   "metadata": {},
   "source": [
    "# Imports"
   ]
  },
  {
   "cell_type": "code",
   "execution_count": 2,
   "metadata": {},
   "outputs": [
    {
     "name": "stderr",
     "output_type": "stream",
     "text": [
      "UsageError: Line magic function `%matpotlib` not found.\n"
     ]
    }
   ],
   "source": [
    "import sys\n",
    "import os\n",
    "sys.path.insert(1, os.path.join(os.getcwd(), '../', '../'))\n",
    "\n",
    "from sim.bmc_tool import BMCTool\n",
    "from utils.sim.eval import plot_z\n",
    "from sim.set_params import load_params\n",
    "import matplotlib.pyplot as plt\n",
    "\n",
    "%matpotlib inline"
   ]
  },
  {
   "cell_type": "markdown",
   "metadata": {},
   "source": [
    "# Set and load config files"
   ]
  },
  {
   "cell_type": "code",
   "execution_count": null,
   "metadata": {},
   "outputs": [],
   "source": [
    "# set necessary file paths:\n",
    "sample_file = '../../dictionary/param_configs/sample_params.yaml'\n",
    "experimental_file = '../../dictionary/param_configs/experimental_params.yaml'\n",
    "seq_file = '../../dictionary/sequences/examples/example_test.seq'\n",
    "\n",
    "# load config files and print settings\n",
    "sim_params = load_params(sample_file, experimental_file)"
   ]
  },
  {
   "cell_type": "markdown",
   "metadata": {},
   "source": [
    "# Create BMCTool object and run simulation"
   ]
  },
  {
   "cell_type": "code",
   "execution_count": null,
   "metadata": {},
   "outputs": [],
   "source": [
    "Sim = BMCTool(sim_params, seq_file)\n",
    "Sim.run(par_calc=sim_params.options['par_calc'])"
   ]
  },
  {
   "cell_type": "markdown",
   "metadata": {},
   "source": [
    "# Plot z-spectrum"
   ]
  },
  {
   "cell_type": "code",
   "execution_count": null,
   "metadata": {},
   "outputs": [],
   "source": [
    "offsets, mz = Sim.get_zspec()\n",
    "fig = plot_z(mz=mz, offsets=offsets, plot_mtr_asym=True)"
   ]
  }
 ],
 "metadata": {
  "kernelspec": {
   "display_name": "Python 3",
   "language": "python",
   "name": "python3"
  },
  "language_info": {
   "codemirror_mode": {
    "name": "ipython",
    "version": 3
   },
   "file_extension": ".py",
   "mimetype": "text/x-python",
   "name": "python",
   "nbconvert_exporter": "python",
   "pygments_lexer": "ipython3",
   "version": "3.7.9"
  }
 },
 "nbformat": 4,
 "nbformat_minor": 4
}
